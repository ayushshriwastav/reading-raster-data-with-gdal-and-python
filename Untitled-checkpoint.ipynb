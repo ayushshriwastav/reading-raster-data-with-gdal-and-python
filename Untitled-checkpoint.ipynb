{
 "cells": [
  {
   "cell_type": "code",
   "execution_count": 1,
   "metadata": {},
   "outputs": [],
   "source": [
    " import gdal"
   ]
  },
  {
   "cell_type": "code",
   "execution_count": 2,
   "metadata": {},
   "outputs": [],
   "source": [
    "from gdalconst import * "
   ]
  },
  {
   "cell_type": "code",
   "execution_count": 3,
   "metadata": {},
   "outputs": [],
   "source": [
    "filename = 'xyz.tiff'"
   ]
  },
  {
   "cell_type": "code",
   "execution_count": 4,
   "metadata": {},
   "outputs": [],
   "source": [
    "dataset = gdal.Open(filename, GA_ReadOnly) "
   ]
  },
  {
   "cell_type": "code",
   "execution_count": 6,
   "metadata": {},
   "outputs": [
    {
     "data": {
      "text/plain": [
       "<osgeo.gdal.Dataset; proxy of <Swig Object of type 'GDALDatasetShadow *' at 0x0000018733CA2C00> >"
      ]
     },
     "execution_count": 6,
     "metadata": {},
     "output_type": "execute_result"
    }
   ],
   "source": [
    " dataset"
   ]
  },
  {
   "cell_type": "code",
   "execution_count": null,
   "metadata": {},
   "outputs": [],
   "source": []
  },
  {
   "cell_type": "code",
   "execution_count": 7,
   "metadata": {},
   "outputs": [],
   "source": [
    "cols = dataset.RasterXSize"
   ]
  },
  {
   "cell_type": "code",
   "execution_count": 8,
   "metadata": {},
   "outputs": [],
   "source": [
    " rows = dataset.RasterYSize"
   ]
  },
  {
   "cell_type": "code",
   "execution_count": 9,
   "metadata": {},
   "outputs": [],
   "source": [
    " bands = dataset.RasterCount"
   ]
  },
  {
   "cell_type": "code",
   "execution_count": 10,
   "metadata": {},
   "outputs": [],
   "source": [
    " driver = dataset.GetDriver().LongName"
   ]
  },
  {
   "cell_type": "code",
   "execution_count": 11,
   "metadata": {},
   "outputs": [
    {
     "data": {
      "text/plain": [
       "1001"
      ]
     },
     "execution_count": 11,
     "metadata": {},
     "output_type": "execute_result"
    }
   ],
   "source": [
    "cols"
   ]
  },
  {
   "cell_type": "code",
   "execution_count": 12,
   "metadata": {},
   "outputs": [
    {
     "data": {
      "text/plain": [
       "801"
      ]
     },
     "execution_count": 12,
     "metadata": {},
     "output_type": "execute_result"
    }
   ],
   "source": [
    "rows"
   ]
  },
  {
   "cell_type": "code",
   "execution_count": 13,
   "metadata": {},
   "outputs": [
    {
     "data": {
      "text/plain": [
       "3"
      ]
     },
     "execution_count": 13,
     "metadata": {},
     "output_type": "execute_result"
    }
   ],
   "source": [
    " bands"
   ]
  },
  {
   "cell_type": "code",
   "execution_count": 14,
   "metadata": {},
   "outputs": [
    {
     "data": {
      "text/plain": [
       "'GeoTIFF'"
      ]
     },
     "execution_count": 14,
     "metadata": {},
     "output_type": "execute_result"
    }
   ],
   "source": [
    "driver"
   ]
  },
  {
   "cell_type": "code",
   "execution_count": 15,
   "metadata": {},
   "outputs": [],
   "source": [
    " geotransform = dataset.GetGeoTransform() "
   ]
  },
  {
   "cell_type": "code",
   "execution_count": 16,
   "metadata": {},
   "outputs": [
    {
     "data": {
      "text/plain": [
       "(0.0, 1.0, 0.0, 0.0, 0.0, 1.0)"
      ]
     },
     "execution_count": 16,
     "metadata": {},
     "output_type": "execute_result"
    }
   ],
   "source": [
    "geotransform"
   ]
  },
  {
   "cell_type": "code",
   "execution_count": 17,
   "metadata": {},
   "outputs": [],
   "source": [
    " originX = geotransform[0]"
   ]
  },
  {
   "cell_type": "code",
   "execution_count": 18,
   "metadata": {},
   "outputs": [],
   "source": [
    " originY = geotransform[3]"
   ]
  },
  {
   "cell_type": "code",
   "execution_count": 19,
   "metadata": {},
   "outputs": [],
   "source": [
    "pixelWidth = geotransform[1]"
   ]
  },
  {
   "cell_type": "code",
   "execution_count": 20,
   "metadata": {},
   "outputs": [],
   "source": [
    "pixelHeight = geotransform[5]"
   ]
  },
  {
   "cell_type": "code",
   "execution_count": 21,
   "metadata": {},
   "outputs": [
    {
     "data": {
      "text/plain": [
       "0.0"
      ]
     },
     "execution_count": 21,
     "metadata": {},
     "output_type": "execute_result"
    }
   ],
   "source": [
    " originX"
   ]
  },
  {
   "cell_type": "code",
   "execution_count": 22,
   "metadata": {},
   "outputs": [
    {
     "data": {
      "text/plain": [
       "0.0"
      ]
     },
     "execution_count": 22,
     "metadata": {},
     "output_type": "execute_result"
    }
   ],
   "source": [
    " originY"
   ]
  },
  {
   "cell_type": "code",
   "execution_count": 23,
   "metadata": {},
   "outputs": [
    {
     "data": {
      "text/plain": [
       "1.0"
      ]
     },
     "execution_count": 23,
     "metadata": {},
     "output_type": "execute_result"
    }
   ],
   "source": [
    "pixelWidth"
   ]
  },
  {
   "cell_type": "code",
   "execution_count": 24,
   "metadata": {},
   "outputs": [
    {
     "data": {
      "text/plain": [
       "1.0"
      ]
     },
     "execution_count": 24,
     "metadata": {},
     "output_type": "execute_result"
    }
   ],
   "source": [
    "pixelHeight"
   ]
  },
  {
   "cell_type": "code",
   "execution_count": 25,
   "metadata": {},
   "outputs": [],
   "source": [
    "band = dataset.GetRasterBand(1)\n"
   ]
  },
  {
   "cell_type": "code",
   "execution_count": 26,
   "metadata": {},
   "outputs": [],
   "source": [
    "bandtype = gdal.GetDataTypeName(band.DataType)"
   ]
  },
  {
   "cell_type": "code",
   "execution_count": 27,
   "metadata": {},
   "outputs": [
    {
     "data": {
      "text/plain": [
       "'Byte'"
      ]
     },
     "execution_count": 27,
     "metadata": {},
     "output_type": "execute_result"
    }
   ],
   "source": [
    " bandtype"
   ]
  },
  {
   "cell_type": "code",
   "execution_count": 28,
   "metadata": {},
   "outputs": [],
   "source": [
    "scanline = band.ReadRaster( 0, 0, band.XSize, 1,band.XSize, 1, band.DataType)"
   ]
  },
  {
   "cell_type": "code",
   "execution_count": 29,
   "metadata": {},
   "outputs": [
    {
     "data": {
      "text/plain": [
       "b'yxz{|z{}|}||{}\\x80}}\\x7f|}}~~}}~}\\x81\\x80\\x7f\\x81\\x81\\x80~\\x81\\x80\\x82\\x81\\x80\\x80\\x7f}\\x82\\x82\\x83\\x82\\x82\\x82\\x80\\x80\\x81\\x80~~\\x83\\x82\\x82\\x83\\x82\\x82\\x80{uo\\x85\\x8b\\x9d\\x95\\xa4\\x96\\x9f\\x94\\x91v\\x7f\\xd9\\xca\\xc7\\xc5\\xc4\\xc0\\xbd\\xb6\\xa8\\xaf\\xaa_ZS\\x8e\\xd3\\xbe\\xad\\xa5\\x8faLB?E>LDHE<EFA1:88>IJH:EEJSPZfmdary{oh\\\\TU]{z}xyuvs{}z\\x8d\\x8f\\x8f\\x8f\\x89\\x96\\x9a\\x98\\x8ea[Y\\xbc\\xdb\\xde\\xdb\\xc9\\xca\\xdc\\xd8\\xb6\\xba\\xbf\\xc5BHMk\\xe0\\xdf\\xe0\\xdd\\xdb\\xd7\\xd8\\xd9\\xd9\\xdc\\xda\\xa6\\x93}:?D757=KDDaC?Z\\x89\\x87\\x8b\\x8c\\x95\\xa4\\xa5\\xa3\\xa6\\xa2\\xa2\\xa6\\xa6\\x94\\x9a\\x9e\\xa0\\x92\\x9b\\xa0\\x9d\\xa8\\xab\\xab\\xad\\xb2n`\\xb5\\xbb\\xba\\xb6\\xac\\xac\\xac\\xac\\xad\\xae\\xac\\xae\\xaf\\xad\\xac\\xae\\xb9\\xa3hVfhklbdXWQK<:;62?B=A=7AED:CA==:Fa?DGF:FLKJEJRJ:=:E;G5@5E3;7.7/(<@G>=D??C>B}64222;\\x96SE?A77\\x80E5+4471\\x9diLZUP_zk|xZV\\\\cerg\\x80\\xaa\\xaa\\xad\\xa5\\x9e\\x8c\\x88\\x80\\x8a\\x89\\x86\\x8e\\x8f\\x9d\\xcb\\xaa\\x8axi^]\\x90\\x8a\\x83fpo\\x7foercYV[]c_fUTrdYcYWed^jcx\\x9b\\x8f\\x8d\\x97\\x94\\x8f\\x89~\\x83udhpEAB@??OKR[ADGMPIFD@MMKAIg\\x87wjbaZpt\\x88\\x89\\x80z\\x8a\\x81\\x8c\\xa6u\\x8c\\xab\\xbb\\xa4\\x99\\xa0\\x8a\\x7f\\x89\\x90\\x8f\\x80\\x80p\\x86y~\\x84\\x93\\x8b\\x91\\x9a{^alcWSD@\\xa9\\xb2\\xb4\\xa5\\xb5\\xb5\\xa5\\xb5\\xb5\\xb6\\xb4\\xb6\\xb9\\xb4\\xb4\\xb1\\xb5\\xbe\\xb1\\xb2\\xae\\xaekDHGi^`VZ^Z`]\\\\X]XXR\\\\\\\\u\\x83\\x95\\x8e\\x7fl\\x9f\\xa1\\x95x|torv\\xd3\\xcc\\xcb\\xcb\\xcc\\xd3\\xd3\\xd4\\xd5\\xd6\\xd5\\xae\\xaa\\xa9\\xa9\\xa7\\xa5\\xa3\\xa3\\xa3\\xa3\\xa5_LNNSU\\\\TUYYXUW\\\\eNN\\x9ff|\\x7f\\x8a\\x98l\\x86o\\xaa\\xae\\xcc\\x90\\x8b\\x8a\\x82p\\x82\\x96\\xa9\\xa8\\xb0\\x82\\xba\\xc6\\xbf\\xb4\\xa2\\x92\\x86\\xae\\x83\\xa5\\x9d\\x82oc\\x84pg]]\\\\gcgij[\\\\`dkqqzy\\x89fk\\x82gti\\xc3n}\\x7fy~\\x8ft}}\\x83\\x98\\x99\\x99\\xa2\\xc1\\xbc\\xc1\\xcc\\xb1Z`ji}ct\\x80\\x86\\x83z\\x80\\x8d\\x90\\x8dv\\x85x}\\x90\\x8c\\x7f\\x84\\x85f\\x82j\\x81\\xbarK=s}fb\\xc3\\xc7\\xc4\\xc5\\xc6\\xc1\\xd2\\xc9\\xc6\\xc4\\xc3\\xc4\\xc4\\xcb\\xc6\\xc4\\xc5\\xc7\\xc7\\xc7\\xc6o\\x84\\x82p_zdotYLX\\\\Z]QMGDSKdYNSUYNFb^=TMd\\x9eRQKTZPt|\\x8c\\x8e\\x92\\x80FfY`=Z@BPXI@RURijp]XXBhSXdev\\x82kRZWKW]W:ELE?KNYWZXz\\x99\\xb1\\xb2\\xb2\\xb7\\xab\\xb2\\xb3\\x9agz\\x85\\x85seZ^ZRZQRz_bnLTSUSDO?LORNT=kL<POZgbESZqOjPA:UHNFBzjQZDHFESakepifO\\\\X69wdvXY]Rg^O]bVuYPS[KOUt\\\\NjZCFdriKXJ\\x84xUZ\\x7fYppMPYRSNUleJb]Z_]UJKIQ_ha`d`agWPZQTTSf'"
      ]
     },
     "execution_count": 29,
     "metadata": {},
     "output_type": "execute_result"
    }
   ],
   "source": [
    " scanline"
   ]
  },
  {
   "cell_type": "code",
   "execution_count": 30,
   "metadata": {},
   "outputs": [],
   "source": [
    "data = band.ReadAsArray(0, 0, cols, rows)"
   ]
  },
  {
   "cell_type": "code",
   "execution_count": 32,
   "metadata": {},
   "outputs": [],
   "source": [
    " value = data[350,400]"
   ]
  },
  {
   "cell_type": "code",
   "execution_count": 33,
   "metadata": {},
   "outputs": [
    {
     "data": {
      "text/plain": [
       "72"
      ]
     },
     "execution_count": 33,
     "metadata": {},
     "output_type": "execute_result"
    }
   ],
   "source": [
    "value"
   ]
  },
  {
   "cell_type": "code",
   "execution_count": 34,
   "metadata": {},
   "outputs": [],
   "source": [
    " import numpy"
   ]
  },
  {
   "cell_type": "code",
   "execution_count": 35,
   "metadata": {},
   "outputs": [],
   "source": [
    " data = band.ReadAsArray(0, 0, dataset.RasterXSize, dataset.RasterYSize).astype(numpy.float)"
   ]
  },
  {
   "cell_type": "code",
   "execution_count": 37,
   "metadata": {},
   "outputs": [],
   "source": [
    " value = data[350,400]"
   ]
  },
  {
   "cell_type": "code",
   "execution_count": 38,
   "metadata": {},
   "outputs": [
    {
     "data": {
      "text/plain": [
       "72.0"
      ]
     },
     "execution_count": 38,
     "metadata": {},
     "output_type": "execute_result"
    }
   ],
   "source": [
    "value"
   ]
  },
  {
   "cell_type": "code",
   "execution_count": null,
   "metadata": {},
   "outputs": [],
   "source": []
  }
 ],
 "metadata": {
  "kernelspec": {
   "display_name": "Python 3",
   "language": "python",
   "name": "python3"
  },
  "language_info": {
   "codemirror_mode": {
    "name": "ipython",
    "version": 3
   },
   "file_extension": ".py",
   "mimetype": "text/x-python",
   "name": "python",
   "nbconvert_exporter": "python",
   "pygments_lexer": "ipython3",
   "version": "3.7.1"
  }
 },
 "nbformat": 4,
 "nbformat_minor": 2
}
